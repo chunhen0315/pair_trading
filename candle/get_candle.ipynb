{
 "cells": [
  {
   "cell_type": "markdown",
   "id": "fe470182",
   "metadata": {},
   "source": [
    "# Candle Extraction from Python Binance"
   ]
  },
  {
   "cell_type": "markdown",
   "id": "9038edb7",
   "metadata": {},
   "source": [
    "Following will demonstrate method to extract candle data from Python Binance Library. \n",
    "\n",
    "https://python-binance.readthedocs.io/en/latest/market_data.html#id6\n",
    "https://developers.binance.com/docs/binance-spot-api-docs/websocket-api/market-data-requests\n",
    "\n"
   ]
  },
  {
   "cell_type": "markdown",
   "id": "3bfe8ea2",
   "metadata": {},
   "source": [
    "# 1. You need to have an API Key & Secret. \n"
   ]
  },
  {
   "cell_type": "code",
   "execution_count": 2,
   "id": "9a675395",
   "metadata": {},
   "outputs": [
    {
     "name": "stdout",
     "output_type": "stream",
     "text": [
      "<binance.client.Client object at 0x107b10a10>\n"
     ]
    }
   ],
   "source": [
    "import pandas as pd\n",
    "from binance.client import Client\n",
    "import time\n",
    "from datetime import datetime\n",
    "import pytz\n",
    "import util\n",
    "\n",
    "api_key = \"\"\n",
    "api_secret = \"\"\n",
    "client = Client(api_key, api_secret)\n",
    "\n",
    "print(client)\n",
    "\n"
   ]
  },
  {
   "cell_type": "markdown",
   "id": "d44ccaa7",
   "metadata": {},
   "source": [
    "# 2. Collect data for all symbols into a dictionary of DataFrames\n",
    "Merge DataFrames on 'datetime' & Sort by datetime to ensure chronological order\n"
   ]
  },
  {
   "cell_type": "code",
   "execution_count": 10,
   "id": "bda1517a",
   "metadata": {},
   "outputs": [
    {
     "name": "stdout",
     "output_type": "stream",
     "text": [
      "                 datetime   BTCUSDT  ETHUSDT  SOLUSDT  BNBUSDT  TRXUSDT  \\\n",
      "0     2024-01-01 00:00:00  42475.23  2295.51   101.96   314.40  0.10832   \n",
      "1     2024-01-01 01:00:00  42613.56  2303.72   104.12   315.30  0.10820   \n",
      "2     2024-01-01 02:00:00  42581.10  2293.02   103.69   310.90  0.10781   \n",
      "3     2024-01-01 03:00:00  42330.49  2273.81   103.07   309.20  0.10711   \n",
      "4     2024-01-01 04:00:00  42399.99  2279.55   102.62   309.20  0.10654   \n",
      "...                   ...       ...      ...      ...      ...      ...   \n",
      "8780  2024-12-31 20:00:00  93564.04  3346.20   194.02   702.51  0.25510   \n",
      "8781  2024-12-31 21:00:00  93899.68  3352.75   193.16   702.80  0.25550   \n",
      "8782  2024-12-31 22:00:00  93488.84  3339.88   191.13   701.07  0.25460   \n",
      "8783  2024-12-31 23:00:00  93576.00  3337.78   189.31   702.30  0.25480   \n",
      "8784  2025-01-01 00:00:00  94401.14  3363.70   192.54   709.12  0.25540   \n",
      "\n",
      "      DOGEUSDT  \n",
      "0      0.08983  \n",
      "1      0.09016  \n",
      "2      0.08980  \n",
      "3      0.08921  \n",
      "4      0.08910  \n",
      "...        ...  \n",
      "8780   0.31676  \n",
      "8781   0.31783  \n",
      "8782   0.31609  \n",
      "8783   0.31600  \n",
      "8784   0.32120  \n",
      "\n",
      "[8785 rows x 7 columns]\n"
     ]
    }
   ],
   "source": [
    "# config\n",
    "symbols = ['BTCUSDT', 'ETHUSDT', 'SOLUSDT', 'BNBUSDT', 'TRXUSDT', 'DOGEUSDT'] #Pairs Input\n",
    "interval = Client.KLINE_INTERVAL_1HOUR #Interval\n",
    "limit = 1000 #Limit \n",
    "start_time_str = \"2024-01-01 00:00:00\" #Start Time\n",
    "end_time_str = \"2025-01-01 00:00:00\" # End Time\n",
    "\n",
    "start_time = util.str_to_timestamp(start_time_str)\n",
    "end_time = util.str_to_timestamp(end_time_str)\n",
    "\n",
    "dataframes = {}\n",
    "for symbol in symbols:\n",
    "    klines = util.get_kline_time(client, symbol, interval, start_time, end_time, limit)\n",
    "    symbol_data = [{\n",
    "        'datetime': util.timestamp_to_datetime(kline[0]),\n",
    "        symbol: float(kline[4])  # Closing price\n",
    "    } for kline in klines]\n",
    "    dataframes[symbol] = pd.DataFrame(symbol_data)\n",
    "\n",
    "# Merge DataFrames on 'datetime'\n",
    "df = dataframes[symbols[0]]\n",
    "for symbol in symbols[1:]:\n",
    "    df = df.merge(dataframes[symbol], on='datetime', how='outer')\n",
    "\n",
    "# Sort by datetime to ensure chronological order\n",
    "df = df.sort_values('datetime').reset_index(drop=True)\n",
    "\n",
    "print(df)\n",
    "\n",
    "csv_filename = f'ASSETS_{interval}_binance_candle.csv'\n",
    "df.to_csv(csv_filename, index=False)\n"
   ]
  }
 ],
 "metadata": {
  "kernelspec": {
   "display_name": "base",
   "language": "python",
   "name": "python3"
  },
  "language_info": {
   "codemirror_mode": {
    "name": "ipython",
    "version": 3
   },
   "file_extension": ".py",
   "mimetype": "text/x-python",
   "name": "python",
   "nbconvert_exporter": "python",
   "pygments_lexer": "ipython3",
   "version": "3.12.2"
  }
 },
 "nbformat": 4,
 "nbformat_minor": 5
}
